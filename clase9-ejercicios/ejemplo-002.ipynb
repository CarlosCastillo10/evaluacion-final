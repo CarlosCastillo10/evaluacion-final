{
 "cells": [
  {
   "cell_type": "code",
   "execution_count": 10,
   "metadata": {},
   "outputs": [],
   "source": [
    "import pandas as pd\n",
    "import matplotlib.pyplot as plt\n",
    "%matplotlib inline\n",
    "\n",
    "#import bokeh.io\n",
    "#import bokeh.models\n",
    "#import bokeh.palettes\n",
    "#import bokeh.plotting\n",
    "\n",
    "# Display graphics in this notebook\n",
    "#bokeh.io.output_notebook()\n",
    "\n",
    "import pandas.io.sql as pd_sql\n",
    "import sqlite3 as sql"
   ]
  },
  {
   "cell_type": "code",
   "execution_count": 11,
   "metadata": {},
   "outputs": [
    {
     "name": "stdout",
     "output_type": "stream",
     "text": [
      "\u001b[0m\u001b[01;34mdatos-tabula\u001b[0m/                \u001b[01;32mejemplo-mundial-18.ipynb\u001b[0m*\r\n",
      "ejemplo-002.ipynb            \u001b[01;34mflask\u001b[0m/\r\n",
      "\u001b[01;32mEjemplo01-Scipy.ipynb\u001b[0m*       Instituciones.db\r\n",
      "Ejemplo02-matematicas.ipynb  Instituciones educativas.db\r\n",
      "Ejemplo03-json.ipynb         \u001b[01;34mnotebooks\u001b[0m/\r\n"
     ]
    }
   ],
   "source": [
    "ls"
   ]
  },
  {
   "cell_type": "code",
   ]
  },
  {
   "cell_type": "code",
   "metadata": {},
   "outputs": [
    {
     "name": "stdout",
     "output_type": "stream",
     "text": [
      "      dtype='object')\n"
     ]
    }
   ],
   "source": [
   ]
  },
  {
   "cell_type": "code",
   "metadata": {},
   "outputs": [
    {
     "data": {
      "text/plain": [
     "metadata": {},
     "output_type": "execute_result"
    }
   ],
   "source": [
   ]
  },
  {
   "cell_type": "code",
   ]
  },
  {
   "cell_type": "code",
   "execution_count": null,
   "metadata": {},
   "outputs": [],
   "source": []
  }
 ],
 "metadata": {
  "kernelspec": {
   "display_name": "Python 3",
   "language": "python",
   "name": "python3"
  },
  "widgets": {
   "state": {},
   "version": "1.1.2"
  }
 },
 "nbformat": 4,
 "nbformat_minor": 1
}
